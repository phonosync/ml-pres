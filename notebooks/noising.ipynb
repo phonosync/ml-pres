{
 "cells": [
  {
   "cell_type": "code",
   "execution_count": 1,
   "id": "3775065c",
   "metadata": {},
   "outputs": [],
   "source": [
    "import numpy as np\n",
    "from PIL import Image"
   ]
  },
  {
   "cell_type": "code",
   "execution_count": 6,
   "id": "9ad24ca4",
   "metadata": {},
   "outputs": [],
   "source": [
    "base_image = Image.open('520065.jpg')"
   ]
  },
  {
   "cell_type": "code",
   "execution_count": 7,
   "id": "34cd8ade",
   "metadata": {},
   "outputs": [],
   "source": [
    "def add_noise(img, noise_level):\n",
    "    img_array = np.array(img).astype(float)\n",
    "    \n",
    "    noise = np.random.normal(0, noise_level, img_array.shape)\n",
    "    noisy_img = np.clip(img_array + noise, 0, 255).astype(np.uint8)\n",
    "    \n",
    "    return Image.fromarray(noisy_img)\n",
    "\n",
    "# Mehrere Stufen in einer Schleife\n",
    "noise_levels = [0, 30, 70, 120, 180]\n",
    "\n",
    "for i, noise_level in enumerate(noise_levels):\n",
    "    img = add_noise(base_image, noise_level)\n",
    "    \n",
    "    img.save(f'hotdog_step_{i}_noise_{noise_level}.jpg')"
   ]
  },
  {
   "cell_type": "code",
   "execution_count": 8,
   "id": "7e780c6b",
   "metadata": {},
   "outputs": [],
   "source": [
    "def create_pure_noise(img):\n",
    "    # Lade das Original, um die gleichen Dimensionen zu bekommen\n",
    "    img_array = np.array(img)\n",
    "    \n",
    "    # Erstelle pures Rauschen mit gleicher Form\n",
    "    pure_noise = np.random.randint(0, 256, img_array.shape, dtype=np.uint8)\n",
    "    \n",
    "    return Image.fromarray(pure_noise)\n",
    "\n",
    "# Pures Rauschen erstellen und speichern\n",
    "xT_pure = create_pure_noise(base_image)\n",
    "xT_pure.save('xT_pure_noise.jpg')"
   ]
  },
  {
   "cell_type": "code",
   "execution_count": null,
   "id": "33b6368f",
   "metadata": {},
   "outputs": [],
   "source": []
  }
 ],
 "metadata": {
  "kernelspec": {
   "display_name": "ml-pres",
   "language": "python",
   "name": "python3"
  },
  "language_info": {
   "codemirror_mode": {
    "name": "ipython",
    "version": 3
   },
   "file_extension": ".py",
   "mimetype": "text/x-python",
   "name": "python",
   "nbconvert_exporter": "python",
   "pygments_lexer": "ipython3",
   "version": "3.10.15"
  }
 },
 "nbformat": 4,
 "nbformat_minor": 5
}
